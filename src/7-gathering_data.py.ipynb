{
 "cells": [
  {
   "cell_type": "code",
   "execution_count": 1,
   "metadata": {},
   "outputs": [],
   "source": [
    "#!python -m pip install pymodi\n",
    "import modi\n",
    "import time\n",
    "import numpy as np\n",
    "import pandas as pd\n",
    "from IPython.display import clear_output\n"
   ]
  },
  {
   "cell_type": "code",
   "execution_count": 2,
   "metadata": {},
   "outputs": [
    {
     "name": "stdout",
     "output_type": "stream",
     "text": [
      "[[ 0.    0.    0.   ...  0.    0.    0.  ]\n",
      " [ 3.8   0.    0.   ...  0.    0.    0.  ]\n",
      " [ 3.8   0.    0.   ...  0.    0.    0.  ]\n",
      " ...\n",
      " [ 0.92 -8.89 49.7  ...  1.03 62.57  0.1 ]\n",
      " [ 0.5  -8.89 49.7  ...  1.03 62.57  0.1 ]\n",
      " [ 0.5  -8.89 49.7  ... -2.36 62.13  0.1 ]]\n"
     ]
    },
    {
     "ename": "FileNotFoundError",
     "evalue": "[Errno 2] No such file or directory: '../data/right.csv'",
     "output_type": "error",
     "traceback": [
      "\u001b[0;31m---------------------------------------------------------------------------\u001b[0m",
      "\u001b[0;31mFileNotFoundError\u001b[0m                         Traceback (most recent call last)",
      "\u001b[0;32m<ipython-input-2-5bbe6916cb8e>\u001b[0m in \u001b[0;36m<module>\u001b[0;34m\u001b[0m\n\u001b[1;32m     84\u001b[0m \u001b[0;34m\u001b[0m\u001b[0m\n\u001b[1;32m     85\u001b[0m \u001b[0;32mif\u001b[0m \u001b[0m__name__\u001b[0m \u001b[0;34m==\u001b[0m \u001b[0;34m\"__main__\"\u001b[0m\u001b[0;34m:\u001b[0m\u001b[0;34m\u001b[0m\u001b[0;34m\u001b[0m\u001b[0m\n\u001b[0;32m---> 86\u001b[0;31m     \u001b[0mmain\u001b[0m\u001b[0;34m(\u001b[0m\u001b[0;34m)\u001b[0m\u001b[0;34m\u001b[0m\u001b[0;34m\u001b[0m\u001b[0m\n\u001b[0m",
      "\u001b[0;32m<ipython-input-2-5bbe6916cb8e>\u001b[0m in \u001b[0;36mmain\u001b[0;34m()\u001b[0m\n\u001b[1;32m     74\u001b[0m             \u001b[0mfilename\u001b[0m \u001b[0;34m=\u001b[0m \u001b[0;34m'../data/right.csv'\u001b[0m\u001b[0;34m\u001b[0m\u001b[0;34m\u001b[0m\u001b[0m\n\u001b[1;32m     75\u001b[0m         \u001b[0;31m# =======================================================\u001b[0m\u001b[0;34m\u001b[0m\u001b[0;34m\u001b[0m\u001b[0;34m\u001b[0m\u001b[0m\n\u001b[0;32m---> 76\u001b[0;31m             \u001b[0;32mwith\u001b[0m \u001b[0mopen\u001b[0m\u001b[0;34m(\u001b[0m\u001b[0mfilename\u001b[0m\u001b[0;34m,\u001b[0m \u001b[0;34m'a'\u001b[0m\u001b[0;34m)\u001b[0m \u001b[0;32mas\u001b[0m \u001b[0mf\u001b[0m\u001b[0;34m:\u001b[0m\u001b[0;34m\u001b[0m\u001b[0;34m\u001b[0m\u001b[0m\n\u001b[0m\u001b[1;32m     77\u001b[0m                 \u001b[0mf\u001b[0m\u001b[0;34m.\u001b[0m\u001b[0mwrite\u001b[0m\u001b[0;34m(\u001b[0m\u001b[0;34m'\\n'\u001b[0m\u001b[0;34m)\u001b[0m\u001b[0;34m\u001b[0m\u001b[0;34m\u001b[0m\u001b[0m\n\u001b[1;32m     78\u001b[0m             \u001b[0mdf\u001b[0m\u001b[0;34m.\u001b[0m\u001b[0mto_csv\u001b[0m\u001b[0;34m(\u001b[0m\u001b[0mfilename\u001b[0m\u001b[0;34m,\u001b[0m \u001b[0mmode\u001b[0m\u001b[0;34m=\u001b[0m\u001b[0;34m'a'\u001b[0m\u001b[0;34m,\u001b[0m \u001b[0mheader\u001b[0m\u001b[0;34m=\u001b[0m\u001b[0;32mFalse\u001b[0m\u001b[0;34m)\u001b[0m\u001b[0;34m\u001b[0m\u001b[0;34m\u001b[0m\u001b[0m\n",
      "\u001b[0;31mFileNotFoundError\u001b[0m: [Errno 2] No such file or directory: '../data/right.csv'"
     ]
    },
    {
     "name": "stderr",
     "output_type": "stream",
     "text": [
      "Process SerialProcess-1:\n",
      "Traceback (most recent call last):\n",
      "  File \"/Users/peter/opt/anaconda3/lib/python3.7/multiprocessing/process.py\", line 297, in _bootstrap\n",
      "    self.run()\n",
      "  File \"/Users/peter/opt/anaconda3/lib/python3.7/site-packages/modi/_serial_process.py\", line 23, in run\n",
      "    self.__ser_task.run()\n",
      "  File \"/Users/peter/opt/anaconda3/lib/python3.7/site-packages/modi/_serial_task.py\", line 72, in run\n",
      "    self.__read_serial()\n",
      "  File \"/Users/peter/opt/anaconda3/lib/python3.7/site-packages/modi/_serial_task.py\", line 80, in __read_serial\n",
      "    if self._serial.in_waiting != 0:\n",
      "  File \"/Users/peter/opt/anaconda3/lib/python3.7/site-packages/serial/serialposix.py\", line 467, in in_waiting\n",
      "    s = fcntl.ioctl(self.fd, TIOCINQ, TIOCM_zero_str)\n",
      "OSError: [Errno 6] Device not configured\n"
     ]
    }
   ],
   "source": [
    "class DataGathering(object):\n",
    "\n",
    "    def record_motion(self, btn, gyro):\n",
    "        print('recording')\n",
    "        print('ready')\n",
    "        time.sleep(1)\n",
    "        print('3')\n",
    "        time.sleep(1)\n",
    "        print('2')\n",
    "        time.sleep(1)\n",
    "        print('1')\n",
    "        time.sleep(1)\n",
    "        print('start!')\n",
    "        self.l = []\n",
    "        self.X = None\n",
    "        self.X_df = None\n",
    "        while True:\n",
    "            time.sleep(0.01)\n",
    "\n",
    "            self.aX = gyro.get_acceleration_x()\n",
    "            self.aY = gyro.get_acceleration_y()\n",
    "            self.aZ = gyro.get_acceleration_z()\n",
    "            self.gX = gyro.get_angular_vel_x()\n",
    "            self.gY = gyro.get_angular_vel_y()\n",
    "            self.gZ = gyro.get_angular_vel_z()\n",
    "            self.roll = gyro.get_roll()\n",
    "            self.pitch = gyro.get_pitch()\n",
    "            self.yaw = gyro.get_yaw()\n",
    "            self.vi = gyro.get_vibration()\n",
    "            self.l.append((self.aX,self.aY,self.aZ,self.gX,self.gY,self.gZ,self.roll,self.pitch,self.yaw,self.vi))\n",
    "            print('aX, aY, aZ, gX, gY, gZ, roll, pitch, yaw, vi', self.aX, self.aY, self.aZ, \n",
    "                                                                self.gX, self.gY, self.gZ, \n",
    "                                                                self.roll, self.pitch, self.yaw, \n",
    "                                                                self.vi)\n",
    "            clear_output(wait=True)\n",
    "\n",
    "            if btn.get_clicked():\n",
    "                self.X = np.array(self.l)[5:-5]\n",
    "                print(self.X)\n",
    "                if len(self.X) > 50:\n",
    "                    self.X_tr = self.X[::2][:25]\n",
    "\n",
    "                    self.X_df = pd.DataFrame(self.X_tr,\n",
    "                                             columns=['aX', 'aY', 'aZ', 'gX', 'gY', 'gZ', 'roll', 'pitch', 'yaw', 'vi'])\n",
    "\n",
    "                else:\n",
    "                    print('데이터가 너무 짧습니다.')\n",
    "                break\n",
    "        return self.X_df\n",
    "\n",
    "\n",
    "    def normalization():\n",
    "        pass\n",
    "\n",
    "\n",
    "\n",
    "\n",
    "\n",
    "def main():\n",
    "    bundle = modi.MODI()\n",
    "    gyro = bundle.gyros[0]\n",
    "    btn = bundle.buttons[0]\n",
    "    i = 1\n",
    "    dg = DataGathering()\n",
    "\n",
    "    \n",
    "    # 사용자 코드 영역\n",
    "    # =======================================================\n",
    "\n",
    "    while True:\n",
    "        if btn.get_clicked():\n",
    "            \n",
    "            df = dg.record_motion(btn, gyro)\n",
    "            filename = '../data/right.csv' \n",
    "        # =======================================================\n",
    "            with open(filename, 'a') as f:\n",
    "                f.write('\\n')\n",
    "            df.to_csv(filename, mode='a', header=False)\n",
    "            i += 1\n",
    "            print(\"collected data : \", i)\n",
    "\n",
    "    \n",
    "\n",
    "\n",
    "if __name__ == \"__main__\":\n",
    "    main()"
   ]
  },
  {
   "cell_type": "code",
   "execution_count": null,
   "metadata": {},
   "outputs": [],
   "source": []
  }
 ],
 "metadata": {
  "kernelspec": {
   "display_name": "Python 3",
   "language": "python",
   "name": "python3"
  },
  "language_info": {
   "codemirror_mode": {
    "name": "ipython",
    "version": 3
   },
   "file_extension": ".py",
   "mimetype": "text/x-python",
   "name": "python",
   "nbconvert_exporter": "python",
   "pygments_lexer": "ipython3",
   "version": "3.7.6"
  }
 },
 "nbformat": 4,
 "nbformat_minor": 4
}
