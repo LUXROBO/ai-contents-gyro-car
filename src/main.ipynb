{
 "cells": [
  {
   "cell_type": "markdown",
   "metadata": {},
   "source": [
    "# Gyro Detection"
   ]
  },
  {
   "cell_type": "markdown",
   "metadata": {},
   "source": [
    "# 1. 데이터 수집"
   ]
  },
  {
   "cell_type": "markdown",
   "metadata": {},
   "source": [
    "## 학습에 사용할 데이터를 수집합니다. 수집하고자 하는 데이터의 이름을 설정하고 gathering_motion 메서드를 통해 데이터를 수집합니다."
   ]
  },
  {
   "cell_type": "markdown",
   "metadata": {},
   "source": [
    "1-1. gathering_data 모듈과 Pymodi 패키지를 import합니다."
   ]
  },
  {
   "cell_type": "code",
   "execution_count": null,
   "metadata": {},
   "outputs": [],
   "source": [
    "from gathering_data import DataGathering\n",
    "import modi"
   ]
  },
  {
   "cell_type": "markdown",
   "metadata": {},
   "source": [
    "1-2. 모디 객체와 DataGathering 클래스 객체를 생성합니다."
   ]
  },
  {
   "cell_type": "code",
   "execution_count": null,
   "metadata": {},
   "outputs": [],
   "source": [
    "bundle = modi.MODI()\n",
    "gyro = bundle.gyros[0]\n",
    "btn = bundle.buttons[0]\n",
    "\n",
    "dg = DataGathering()"
   ]
  },
  {
   "cell_type": "markdown",
   "metadata": {},
   "source": [
    "1-3. go, back, left, right 4개 동작에 대한 데이터를 수집합니다. 파일 이름(go, back, left, right)을 입력하고, gathering_motion 메서드를 실행하여 데이터를 수집합니다."
   ]
  },
  {
   "cell_type": "code",
   "execution_count": null,
   "metadata": {},
   "outputs": [],
   "source": [
    "filename = 'go' # 파일은 /data/go.csv 에 저장됩니다.\n",
    "dg.gathering_motion(btn, gyro, filename)"
   ]
  },
  {
   "cell_type": "markdown",
   "metadata": {},
   "source": [
    "1-4. 현재까지 수집된 데이터의 개수를 확인합니다."
   ]
  },
  {
   "cell_type": "code",
   "execution_count": null,
   "metadata": {},
   "outputs": [],
   "source": [
    "dg.check_data()"
   ]
  },
  {
   "cell_type": "markdown",
   "metadata": {},
   "source": [
    "# 2. 모델 학습"
   ]
  },
  {
   "cell_type": "markdown",
   "metadata": {},
   "source": [
    "## 수집한 데이터를 통해 학습 모델을 생성합니다."
   ]
  },
  {
   "cell_type": "markdown",
   "metadata": {},
   "source": [
    "2-1. gesture_detection 모듈을 import 합니다."
   ]
  },
  {
   "cell_type": "code",
   "execution_count": 1,
   "metadata": {},
   "outputs": [
    {
     "name": "stdout",
     "output_type": "stream",
     "text": [
      "Running PyMODI (v0.9.0)\n"
     ]
    }
   ],
   "source": [
    "from gesture_detection import DetectGesture"
   ]
  },
  {
   "cell_type": "markdown",
   "metadata": {},
   "source": [
    "2-2. DetectGesture 클래스 객체를 생성합니다."
   ]
  },
  {
   "cell_type": "code",
   "execution_count": 2,
   "metadata": {},
   "outputs": [],
   "source": [
    "dg = DetectGesture()"
   ]
  },
  {
   "cell_type": "markdown",
   "metadata": {},
   "source": [
    "2-3. training_model 메서드를 실행하여 수집한 데이터를 사용항여 학습하고, 모델을 생성합니다."
   ]
  },
  {
   "cell_type": "code",
   "execution_count": null,
   "metadata": {},
   "outputs": [
    {
     "name": "stdout",
     "output_type": "stream",
     "text": [
      "[데이터 준비]\n",
      "모델 학습을 위한 데이터 준비가 완료되었습니다.\n",
      "inputs :  4925\n",
      "TRAIN_SPLIT :  2955\n",
      "TEST_SPLIT :  3940\n",
      "[0.20261187 0.92061621 0.63424181 1.         0.73563218 0.42350529\n",
      " 0.88311335 0.38198103 0.45082562 0.20261187 0.92061621 0.63424181\n",
      " 1.         0.73563218 0.42350529 0.79425772 0.56656129 0.44309941\n",
      " 0.26080277 0.90478997 0.68744564 1.         0.73563218 0.42350529\n",
      " 0.79425772 0.56656129 0.44309941 0.26080277 0.90478997 0.68744564\n",
      " 0.7593617  0.68798665 0.62475758 0.77139747 0.56656129 0.44309941\n",
      " 0.26080277 0.90478997 0.68744564 0.7593617  0.68798665 0.62475758\n",
      " 0.77139747 0.31401475 0.4431273  0.20722105 0.88862699 0.72281821\n",
      " 0.7593617  0.68798665 0.62475758 0.77139747 0.31401475 0.4431273\n",
      " 0.20722105 0.88862699 0.72281821 0.32659574 0.51928068 0.54208456\n",
      " 0.72962308 0.31401475 0.4431273  0.20722105 0.88862699 0.72281821\n",
      " 0.32659574 0.51928068 0.54208456 0.72962308 0.37074113 0.44268102\n",
      " 0.21144613 0.90150686 0.6804871  0.2812766  0.51928068 0.54208456\n",
      " 0.72962308 0.37074113 0.44268102 0.21144613 0.90150686 0.6804871\n",
      " 0.2812766  0.63644791 0.47282097 0.76282487 0.41938883 0.44268102\n",
      " 0.22220088 0.90150686 0.6804871  0.2812766  0.63644791 0.47282097\n",
      " 0.76282487 0.41938883 0.43704675 0.22220088 0.88231333 0.68063207\n",
      " 0.34680851 0.6114201  0.47282097 0.76282487 0.41938883 0.43704675\n",
      " 0.22220088 0.88231333 0.68063207 0.34680851 0.6114201  0.5356569\n",
      " 0.7300313  0.37688795 0.43422961 0.19310543 0.88231333 0.68063207\n",
      " 0.34680851 0.6114201  0.5356569  0.7300313  0.37688795 0.43422961\n",
      " 0.19310543 0.8951932  0.67802262 0.4193617  0.58027438 0.5356569\n",
      " 0.7300313  0.37688795 0.43422961 0.19310543 0.8951932  0.67802262\n",
      " 0.4193617  0.58027438 0.50590126 0.73479385 0.40990516 0.43043624\n",
      " 0.19915498 0.87894604 0.67802262 0.4193617  0.58027438 0.50590126\n",
      " 0.73479385 0.40990516 0.43043624 0.19915498 0.87894604 0.68498115\n",
      " 0.39829787 0.57545421 0.54513215 0.73479385 0.40990516 0.43043624\n",
      " 0.19915498 0.87894604 0.68498115 0.39829787 0.57545421 0.54513215\n",
      " 0.7113893  0.37899543 0.42904162 0.21355867 0.87423184 0.68585097\n",
      " 0.39829787 0.57545421 0.54513215 0.7113893  0.37899543 0.42904162\n",
      " 0.21355867 0.87423184 0.68585097 0.31744681 0.58898776 0.56408267\n",
      " 0.7113893  0.37899543 0.42904162 0.21355867 0.87423184 0.68585097\n",
      " 0.31744681 0.58898776 0.56408267 0.70621853 0.38918159 0.42906951\n",
      " 0.19339351 0.88711171 0.69063497 0.28744681 0.58898776 0.56408267\n",
      " 0.70621853 0.38918159 0.42906951 0.19339351 0.88711171 0.69063497\n",
      " 0.28744681 0.61364479 0.55111653 0.72281943 0.38338602 0.42906951\n",
      " 0.24159785 0.88711171 0.69063497 0.28744681 0.61364479 0.55111653\n",
      " 0.72281943 0.38338602 0.42957157] [0. 0. 1. 0.]\n",
      "Data set randomization and splitting complete.\n",
      "inputs_train:  2955\n",
      "inputs_train_shape:  (2955, 225)\n",
      "inputs_test:  985\n",
      "inputs_validate:  985\n"
     ]
    }
   ],
   "source": [
    "dg.training_model()"
   ]
  },
  {
   "cell_type": "markdown",
   "metadata": {},
   "source": [
    "# 3. 학습된 모델을 활용하여 콘텐츠 제작"
   ]
  },
  {
   "cell_type": "markdown",
   "metadata": {},
   "source": [
    "## 생성된 모델을 활용하여 콘텐츠를 제작합니다."
   ]
  },
  {
   "cell_type": "markdown",
   "metadata": {},
   "source": [
    "3-1. gesture_detection 모듈과 Pymodi 및 필수 패키지들을 import 합니다."
   ]
  },
  {
   "cell_type": "code",
   "execution_count": null,
   "metadata": {},
   "outputs": [],
   "source": [
    "from gesture_detection import DetectGesture\n",
    "from IPython.display import clear_output\n",
    "import modi\n",
    "import time"
   ]
  },
  {
   "cell_type": "markdown",
   "metadata": {},
   "source": [
    "3-2. 모디 객체와 DetectGesture 클래스 객체를 생성합니다."
   ]
  },
  {
   "cell_type": "code",
   "execution_count": null,
   "metadata": {},
   "outputs": [],
   "source": [
    "bundle = modi.MODI()\n",
    "gyro = bundle.gyros[0]\n",
    "btn = bundle.buttons[0]\n",
    "mot = bundle.motors[0]\n",
    "dg = DetectGesture()"
   ]
  },
  {
   "cell_type": "markdown",
   "metadata": {},
   "source": [
    "3-3. 반복문 안에 있는 사용자 코드 영역을 수정하여 모터 모듈이 움직이도록 코드를 움직이도록 코드를 작성합니다."
   ]
  },
  {
   "cell_type": "code",
   "execution_count": null,
   "metadata": {},
   "outputs": [],
   "source": [
    "while True:\n",
    "        time.sleep(0.1)\n",
    "        print(\"버튼을 더블클릭하면 출발합니다\")\n",
    "        clear_output(wait=True)\n",
    "        if btn.double_clicked:\n",
    "            print(\"출발!\")\n",
    "            mot.speed = 25, -25\n",
    "            time.sleep(0.1)\n",
    "            while True:\n",
    "                print(\"버튼을 눌러 데이터를 수집해보세요. 멈추려면 버튼을 더블클릭하세요.\", end='\\r')\n",
    "                if btn.clicked:\n",
    "                    pred = dg.predict(gyro, btn) #pred 변수에, 예측값을 받아와 저장합니다.\n",
    "                    time.sleep(0.1)\n",
    "                    # 사용자 코드 영역\n",
    "                    # =======================================================\n",
    "                    if pred == 'back':\n",
    "                        mot.speed = -23,23\n",
    "                        time.sleep(0.1)\n",
    "                        print('car : back!')\n",
    "                    elif pred == 'go':\n",
    "                        mot.speed = 23, -23\n",
    "                        time.sleep(0.1)\n",
    "                        print('car : go!')\n",
    "                    elif pred == 'left':\n",
    "                        mot.speed = 23, 23\n",
    "                        time.sleep(0.1)\n",
    "                        print('car : left!')\n",
    "                    elif pred == 'right':\n",
    "                        mot.speed = -23, -23\n",
    "                        time.sleep(0.1)\n",
    "                        print('car : right!')\n",
    "                    #=======================================================\n",
    "\n",
    "                time.sleep(0.1)\n",
    "                if btn.double_clicked:\n",
    "                    print(\"stop!\")\n",
    "                    mot.speed = 0, 0\n",
    "                    time.sleep(0.1)\n",
    "                    break"
   ]
  },
  {
   "cell_type": "code",
   "execution_count": null,
   "metadata": {},
   "outputs": [],
   "source": []
  }
 ],
 "metadata": {
  "kernelspec": {
   "display_name": "Python 3",
   "language": "python",
   "name": "python3"
  },
  "language_info": {
   "codemirror_mode": {
    "name": "ipython",
    "version": 3
   },
   "file_extension": ".py",
   "mimetype": "text/x-python",
   "name": "python",
   "nbconvert_exporter": "python",
   "pygments_lexer": "ipython3",
   "version": "3.7.6"
  }
 },
 "nbformat": 4,
 "nbformat_minor": 4
}
