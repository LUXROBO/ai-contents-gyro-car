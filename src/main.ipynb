{
 "cells": [
  {
   "cell_type": "markdown",
   "metadata": {},
   "source": [
    "# Gyro Detection"
   ]
  },
  {
   "cell_type": "markdown",
   "metadata": {},
   "source": [
    "# 1. 데이터 수집"
   ]
  },
  {
   "cell_type": "markdown",
   "metadata": {},
   "source": [
    "## 학습에 사용할 데이터를 수집합니다. 수집하고자 하는 데이터의 이름을 설정하고 gathering_motion 메서드를 통해 데이터를 수집합니다."
   ]
  },
  {
   "cell_type": "markdown",
   "metadata": {},
   "source": [
    "1-1. gathering_data 모듈과 Pymodi 패키지를 import합니다."
   ]
  },
  {
   "cell_type": "code",
   "execution_count": 1,
   "metadata": {},
   "outputs": [
    {
     "name": "stdout",
     "output_type": "stream",
     "text": [
      "Running PyMODI (v0.9.0)\n",
      "Newer PyMODI (v0.9.1) is available!\n"
     ]
    }
   ],
   "source": [
    "from gathering_data import DataGathering\n",
    "import modi"
   ]
  },
  {
   "cell_type": "markdown",
   "metadata": {},
   "source": [
    "1-2. 모디 객체와 DataGathering 클래스 객체를 생성합니다."
   ]
  },
  {
   "cell_type": "code",
   "execution_count": 2,
   "metadata": {},
   "outputs": [
    {
     "name": "stdout",
     "output_type": "stream",
     "text": [
      "Run Ser Task.\n",
      "Start initializing connected MODI modules\n",
      "Gyro (1742) has been connected!\n",
      "Button (1431) has been connected!\n"
     ]
    },
    {
     "name": "stderr",
     "output_type": "stream",
     "text": [
      "Exception in thread Thread-4:\n",
      "Traceback (most recent call last):\n",
      "  File \"/Users/peter/opt/anaconda3/lib/python3.7/threading.py\", line 926, in _bootstrap_inner\n",
      "    self.run()\n",
      "  File \"/Users/peter/opt/anaconda3/lib/python3.7/threading.py\", line 870, in run\n",
      "    self._target(*self._args, **self._kwargs)\n",
      "  File \"/Users/peter/.local/lib/python3.7/site-packages/modi/task/ser_task.py\", line 130, in run_recv_data\n",
      "    self._recv_data()\n",
      "  File \"/Users/peter/.local/lib/python3.7/site-packages/modi/task/ser_task.py\", line 97, in _recv_data\n",
      "    serial_buffer = self.__ser.in_waiting\n",
      "  File \"/Users/peter/.local/lib/python3.7/site-packages/serial/serialposix.py\", line 467, in in_waiting\n",
      "    s = fcntl.ioctl(self.fd, TIOCINQ, TIOCM_zero_str)\n",
      "OSError: [Errno 6] Device not configured\n",
      "\n"
     ]
    }
   ],
   "source": [
    "bundle = modi.MODI()\n",
    "gyro = bundle.gyros[0]\n",
    "btn = bundle.buttons[0]\n",
    "\n",
    "dg = DataGathering()"
   ]
  },
  {
   "cell_type": "markdown",
   "metadata": {},
   "source": [
    "1-3. go, back, left, right 4개 동작에 대한 데이터를 수집합니다. 파일 이름(go, back, left, right)을 입력하고, gathering_motion 메서드를 실행하여 데이터를 수집합니다."
   ]
  },
  {
   "cell_type": "code",
   "execution_count": 3,
   "metadata": {},
   "outputs": [
    {
     "name": "stdout",
     "output_type": "stream",
     "text": [
      "데이터 수집을 종료합니다.\n",
      "current json message: :3,\"b\":\"AAAAAAAAAAA=\",\"l\":8}\n",
      "current json message: ,\"d\":11,\"b\":\"VUWnvgAAAAA=\",\"l\":8}\n",
      "current json message: :2,\"b\":\"AAAAAAAAAAA=\",\"l\":8}\n",
      "current json message: ,\"d\":4,\"b\":\"/I+0wgAAAAA=\",\"l\":8}\n",
      "current json message: ,\"d\":11,\"b\":\"q0ohvgAAAAA=\",\"l\":8}\n",
      "current json message: ,\"d\":11,\"b\":\"VTWEvgAAAAA=\",\"l\":8}\n",
      "current json message: ,\"d\":11,\"b\":\"VRWavgAAAAA=\",\"l\":8}\n",
      "current json message: 2,\"d\":2,\"b\":\"FPCMwQAAAAA=\",\"l\":8}\n",
      "current json message: ,\"d\":11,\"b\":\"VfVKvgAAAAA=\",\"l\":8}\n",
      "current json message: ,\"d\":11,\"b\":\"q4pZvgAAAAA=\",\"l\":8}\n",
      "current json message: ,\"d\":11,\"b\":\"AEBrvgAAAAA=\",\"l\":8}\n",
      "current json message: ,\"d\":11,\"b\":\"VdUuvgAAAAA=\",\"l\":8}\n",
      "current json message: 2,\"d\":3,\"b\":\"+1wBwwAAAAA=\",\"l\":8}\n",
      "current json message: 2,\"d\":3,\"b\":\"JXgBwwAAAAA=\",\"l\":8}\n",
      "current json message: 2,\"d\":3,\"b\":\"O4QBwwAAAAA=\",\"l\":8}\n",
      "current json message: 2,\"d\":3,\"b\":\"uowBwwAAAAA=\",\"l\":8}\n",
      "current json message: :6,\"b\":\"AOCSvgAAAAA=\",\"l\":8}\n",
      "current json message: 4,\"b\":\"2a0CQwAAAAA=\",\"l\":8}\n",
      "current json message: ,\"d\":4,\"b\":\"eqP/QgAAAAA=\",\"l\":8}\n",
      "current json message: :3,\"b\":\"AAAAAAAAAAA=\",\"l\":8}\n",
      "current json message: 2,\"d\":3,\"b\":\"WRECwwAAAAA=\",\"l\":8}\n",
      "current json message: ,\"d\":11,\"b\":\"AGCQvgAAAAA=\",\"l\":8}\n",
      "current json message: ,\"d\":4,\"b\":\"hnyxQgAAAAA=\",\"l\":8}\n",
      "current json message: 2,\"d\":3,\"b\":\"nWwCwwAAAAA=\",\"l\":8}\n",
      "current json message: ,\"d\":11,\"b\":\"VUWBvgAAAAA=\",\"l\":8}\n",
      "current json message: ,\"d\":11,\"b\":\"AOAmvgAAAAA=\",\"l\":8}\n",
      "current json message: ,\"d\":11,\"b\":\"qyqpvQAAAAA=\",\"l\":8}\n",
      "current json message: ,\"d\":11,\"b\":\"VVXzvAAAAAA=\",\"l\":8}\n",
      "current json message: 2,\"d\":3,\"b\":\"4iIDwwAAAAA=\",\"l\":8}\n",
      "current json message: 3,\"b\":\"wvUDwwAAAAA=\",\"l\":8}\n",
      "current json message: ,\"d\":11,\"b\":\"AECJvQAAAAA=\",\"l\":8}\n",
      "current json message: ,\"d\":11,\"b\":\"q6qlvAAAAAA=\",\"l\":8}\n",
      "current json message: ,\"d\":11,\"b\":\"VYWPvgAAAAA=\",\"l\":8}\n",
      "current json message: ,\"d\":4,\"b\":\"mLM9wgAAAAA=\",\"l\":8}\n",
      "current json message: 1,\"d\":0,\"b\":\"AAAAAAAAAAA=\",\"l\":8}\n",
      "current json message: ,\"d\":11,\"b\":\"VWWqvgAAAAA=\",\"l\":8}\n",
      "current json message: 0,\"b\":\"AAAAAAAAAAA=\",\"l\":8}\n",
      "current json message: ,\"d\":11,\"b\":\"q4o4vgAAAAA=\",\"l\":8}\n",
      "current json message: ,\"d\":11,\"b\":\"q0pkvgAAAAA=\",\"l\":8}\n",
      "current json message: ,\"d\":11,\"b\":\"q0oyvgAAAAA=\",\"l\":8}\n",
      "current json message: ,\"d\":11,\"b\":\"VVVMvgAAAAA=\",\"l\":8}\n",
      "current json message: ,\"d\":3,\"b\":\"AAAAAAAAAAA=\",\"l\":8}\n",
      "current json message: 11,\"b\":\"q0oZvgAAAAA=\",\"l\":8}\n",
      "current json message: ,\"d\":4,\"b\":\"iuXkwgAAAAA=\",\"l\":8}\n",
      "current json message: 3,\"b\":\"AAAAAAAAAAA=\",\"l\":8}\n",
      "current json message: 4,\"b\":\"xGLxwgAAAAA=\",\"l\":8}\n",
      "current json message: 2,\"d\":7,\"b\":\"AHAUvwAAAAA=\",\"l\":8}\n",
      "current json message: 2,\"d\":2,\"b\":\"dLUEwQAAAAA=\",\"l\":8}\n",
      "current json message: 11,\"b\":\"q8pXvgAAAAA=\",\"l\":8}\n",
      "current json message: \":\"AEAxvgAAAAA=\",\"l\":8}\n",
      "current json message: ,\"d\":11,\"b\":\"AMBWvgAAAAA=\",\"l\":8}\n",
      "current json message: 2,\"d\":7,\"b\":\"ACAZvwAAAAA=\",\"l\":8}\n",
      "current json message: ,\"d\":11,\"b\":\"q4pqvgAAAAA=\",\"l\":8}\n",
      "current json message: ,\"d\":11,\"b\":\"VZW1vQAAAAA=\",\"l\":8}\n",
      "current json message: ,\"d\":4,\"b\":\"aBf4QgAAAAA=\",\"l\":8}\n",
      "current json message: 4,\"b\":\"ZPbgQgAAAAA=\",\"l\":8}\n",
      "current json message: ,\"d\":11,\"b\":\"q2qYvQAAAAA=\",\"l\":8}\n",
      "current json message: 11,\"b\":\"VRXCvQAAAAA=\",\"l\":8}\n",
      "current json message: :2,\"b\":\"Y8gDwQAAAAA=\",\"l\":8}\n",
      "current json message: 3,\"b\":\"MjEiwwAAAAA=\",\"l\":8}\n",
      "current json message: 2,\"d\":3,\"b\":\"2ioiwwAAAAA=\",\"l\":8}\n",
      "current json message: :10,\"b\":\"QK1BwgAAAAA=\",\"l\":8}\n",
      "current json message: :0,\"b\":\"AAAAAAAAAAA=\",\"l\":8}\n",
      "current json message: ,\"d\":11,\"b\":\"VZXnvQAAAAA=\",\"l\":8}\n",
      "current json message: ,\"d\":11,\"b\":\"q+q9vQAAAAA=\",\"l\":8}\n",
      "current json message: ,\"d\":11,\"b\":\"q8oMvgAAAAA=\",\"l\":8}\n",
      "current json message: ,\"d\":11,\"b\":\"VVUavgAAAAA=\",\"l\":8}\n",
      "current json message: ,\"d\":11,\"b\":\"AAASvgAAAAA=\",\"l\":8}\n",
      "current json message: ,\"d\":3,\"b\":\"lSciwwAAAAA=\",\"l\":8}\n",
      "current json message: 2,\"d\":3,\"b\":\"Ui8iwwAAAAA=\",\"l\":8}\n",
      "current json message: ,\"d\":11,\"b\":\"AMDrvQAAAAA=\",\"l\":8}\n",
      "current json message: ,\"d\":11,\"b\":\"qyqrvQAAAAA=\",\"l\":8}\n",
      "current json message: 2,\"d\":2,\"b\":\"f8kDwQAAAAA=\",\"l\":8}\n",
      "current json message: 2,\"d\":7,\"b\":\"ANAdvwAAAAA=\",\"l\":8}\n",
      "current json message: 2,\"d\":3,\"b\":\"/C0iwwAAAAA=\",\"l\":8}\n",
      "current json message: ,\"d\":11,\"b\":\"q6p6vQAAAAA=\",\"l\":8}\n",
      "current json message: ,\"d\":11,\"b\":\"qyqrvQAAAAA=\",\"l\":8}\n",
      "current json message: ,\"d\":11,\"b\":\"AIBEvQAAAAA=\",\"l\":8}\n",
      "current json message: ,\"d\":11,\"b\":\"VdUzvQAAAAA=\",\"l\":8}\n",
      "current json message: :7,\"b\":\"AEAcvwAAAAA=\",\"l\":8}\n",
      "current json message: 2,\"d\":5,\"b\":\"AMDBPgAAAAA=\",\"l\":8}\n",
      "current json message: ,\"d\":11,\"b\":\"AEAYvgAAAAA=\",\"l\":8}\n",
      "current json message: ,\"d\":11,\"b\":\"AIBEvQAAAAA=\",\"l\":8}\n",
      "current json message: 4,\"b\":\"VcAewwAAAAA=\",\"l\":8}\n",
      "current json message: ,\"d\":11,\"b\":\"AADAvQAAAAA=\",\"l\":8}\n",
      "current json message: 3,\"b\":\"ghciwwAAAAA=\",\"l\":8}\n",
      "current json message: ,\"d\":11,\"b\":\"AIAFvgAAAAA=\",\"l\":8}\n",
      "current json message: 2,\"d\":3,\"b\":\"jSEiwwAAAAA=\",\"l\":8}\n",
      "current json message: 2,\"d\":3,\"b\":\"MysiwwAAAAA=\",\"l\":8}\n",
      "current json message: ,\"d\":11,\"b\":\"ANCfvgAAAAA=\",\"l\":8}\n",
      "current json message: 2,\"d\":3,\"b\":\"XBIiwwAAAAA=\",\"l\":8}\n",
      "current json message: ,\"d\":4,\"b\":\"0BwkQgAAAAA=\",\"l\":8}\n",
      "current json message: ,\"d\":11,\"b\":\"qyo8vQAAAAA=\",\"l\":8}\n",
      "current json message: ,\"d\":11,\"b\":\"AACovAAAAAA=\",\"l\":8}\n",
      "current json message: 4,\"b\":\"iEfuQQAAAAA=\",\"l\":8}\n",
      "current json message: 2,\"d\":7,\"b\":\"AJAXvwAAAAA=\",\"l\":8}\n",
      "current json message: 11,\"b\":\"q6oYvAAAAAA=\",\"l\":8}\n",
      "current json message: ,\"d\":11,\"b\":\"VXWjvgAAAAA=\",\"l\":8}\n",
      "current json message: ,\"d\":11,\"b\":\"AIBEvQAAAAA=\",\"l\":8}\n",
      "current json message: ,\"d\":11,\"b\":\"qyqSvQAAAAA=\",\"l\":8}\n",
      "current json message: ,\"d\":11,\"b\":\"q6q4vAAAAAA=\",\"l\":8}\n",
      "current json message: ,\"d\":4,\"b\":\"CElbwgAAAAA=\",\"l\":8}\n",
      "current json message: 2,\"d\":3,\"b\":\"b0wiwwAAAAA=\",\"l\":8}\n",
      "current json message: ,\"d\":4,\"b\":\"4MGAwgAAAAA=\",\"l\":8}\n",
      "current json message: ,\"d\":11,\"b\":\"AMCgvQAAAAA=\",\"l\":8}\n",
      "current json message: ,\"d\":4,\"b\":\"YN6JwgAAAAA=\",\"l\":8}\n",
      "current json message: ,\"d\":11,\"b\":\"q6qaugAAAAA=\",\"l\":8}\n",
      "current json message: 2,\"d\":3,\"b\":\"jjEiwwAAAAA=\",\"l\":8}\n",
      "current json message: ,\"d\":0,\"b\":\"AAAAAAAAAAA=\",\"l\":8}\n",
      "current json message: 2,\"d\":3,\"b\":\"VGMiwwAAAAA=\",\"l\":8}\n",
      "current json message: 2,\"d\":2,\"b\":\"haADwQAAAAA=\",\"l\":8}\n",
      "current json message: 4,\"b\":\"QQkmwwAAAAA=\",\"l\":8}\n",
      "current json message: 2,\"d\":2,\"b\":\"Lc8CwQAAAAA=\",\"l\":8}\n",
      "current json message: ,\"d\":11,\"b\":\"VcXQvgAAAAA=\",\"l\":8}\n",
      "current json message: ,\"d\":11,\"b\":\"AKCOvgAAAAA=\",\"l\":8}\n",
      "current json message: ,\"d\":3,\"b\":\"BE0iwwAAAAA=\",\"l\":8}\n",
      "current json message: ,\"d\":11,\"b\":\"q0qGvgAAAAA=\",\"l\":8}\n",
      "current json message: ,\"d\":11,\"b\":\"AAAfvQAAAAA=\",\"l\":8}\n",
      "current json message: ,\"d\":11,\"b\":\"VaWbvgAAAAA=\",\"l\":8}\n",
      "current json message: ,\"d\":4,\"b\":\"bpflQgAAAAA=\",\"l\":8}\n",
      "current json message: ,\"d\":11,\"b\":\"q2qJvgAAAAA=\",\"l\":8}\n",
      "current json message: 2,\"d\":2,\"b\":\"Ci0DwQAAAAA=\",\"l\":8}\n",
      "current json message: ,\"d\":11,\"b\":\"VYWYvgAAAAA=\",\"l\":8}\n",
      "current json message: ,\"d\":11,\"b\":\"VdXBvgAAAAA=\",\"l\":8}\n",
      "current json message: :5,\"b\":\"AACvPgAAAAA=\",\"l\":8}\n",
      "current json message: ,\"d\":4,\"b\":\"VDBpQgAAAAA=\",\"l\":8}\n",
      "current json message: ,\"d\":11,\"b\":\"ADCMvgAAAAA=\",\"l\":8}\n",
      "current json message: ,\"d\":11,\"b\":\"ANCbvgAAAAA=\",\"l\":8}\n",
      "current json message: ,\"d\":2,\"b\":\"E6oFwQAAAAA=\",\"l\":8}\n",
      "current json message: ,\"d\":11,\"b\":\"VVWDvgAAAAA=\",\"l\":8}\n",
      "current json message: ,\"d\":11,\"b\":\"AECavgAAAAA=\",\"l\":8}\n",
      "current json message: ,\"d\":11,\"b\":\"VWWRvgAAAAA=\",\"l\":8}\n",
      "current json message: 4,\"b\":\"gNayQAAAAAA=\",\"l\":8}\n",
      "current json message: ,\"d\":11,\"b\":\"q9q1vgAAAAA=\",\"l\":8}\n",
      "current json message: 4,\"b\":\"YALjwAAAAAA=\",\"l\":8}\n",
      "current json message: ,\"d\":11,\"b\":\"q6qMPQAAAAA=\",\"l\":8}\n",
      "current json message: ,\"d\":4,\"b\":\"gElgwQAAAAA=\",\"l\":8}\n",
      "current json message: ,\"d\":11,\"b\":\"VbWMvgAAAAA=\",\"l\":8}\n",
      "current json message: ,\"d\":11,\"b\":\"VVXUvAAAAAA=\",\"l\":8}\n",
      "current json message: ,\"d\":11,\"b\":\"VXWGvgAAAAA=\",\"l\":8}\n",
      "current json message: 2,\"d\":2,\"b\":\"pWwEwQAAAAA=\",\"l\":8}\n",
      "current json message: ,\"d\":11,\"b\":\"VaWXvgAAAAA=\",\"l\":8}\n",
      "current json message: 2,\"d\":3,\"b\":\"A9ghwwAAAAA=\",\"l\":8}\n",
      "current json message: ,\"d\":11,\"b\":\"VTWZvgAAAAA=\",\"l\":8}\n",
      "current json message: ,\"d\":11,\"b\":\"VVX+PAAAAAA=\",\"l\":8}\n",
      "current json message: ,\"d\":11,\"b\":\"AECBvgAAAAA=\",\"l\":8}\n",
      "current json message: 2,\"d\":3,\"b\":\"ct8hwwAAAAA=\",\"l\":8}\n",
      "current json message: 2,\"d\":3,\"b\":\"BtkhwwAAAAA=\",\"l\":8}\n",
      "current json message: ,\"d\":11,\"b\":\"VVUDPQAAAAA=\",\"l\":8}\n",
      "current json message: ,\"d\":11,\"b\":\"AGCEvgAAAAA=\",\"l\":8}\n"
     ]
    },
    {
     "name": "stdout",
     "output_type": "stream",
     "text": [
      "current json message: 2,\"d\":3,\"b\":\"l+QhwwAAAAA=\",\"l\":8}\n",
      "current json message: ,\"d\":11,\"b\":\"VVUNvAAAAAA=\",\"l\":8}\n",
      "current json message: ,\"d\":0,\"b\":\"cAEcAA==\",\"l\":4}\n",
      "current json message: 4,\"b\":\"emfDQgAAAAA=\",\"l\":8}\n",
      "current json message: ,\"d\":11,\"b\":\"q0qCvgAAAAA=\",\"l\":8}\n",
      "current json message: 2,\"d\":2,\"b\":\"CrADwQAAAAA=\",\"l\":8}\n",
      "current json message: ,\"d\":4,\"b\":\"RH6XQgAAAAA=\",\"l\":8}\n",
      "current json message: ,\"d\":11,\"b\":\"VUWnvgAAAAA=\",\"l\":8}\n",
      "current json message: ,\"d\":11,\"b\":\"q0pkvgAAAAA=\",\"l\":8}\n",
      "current json message: ,\"d\":11,\"b\":\"VVUNvAAAAAA=\",\"l\":8}\n",
      "current json message: 2,\"d\":7,\"b\":\"AHAtvwAAAAA=\",\"l\":8}\n",
      "current json message: 4,\"b\":\"yCzYQQAAAAA=\",\"l\":8}\n",
      "current json message: ,\"d\":11,\"b\":\"VZWMvQAAAAA=\",\"l\":8}\n",
      "current json message: 2,\"d\":3,\"b\":\"G+AhwwAAAAA=\",\"l\":8}\n",
      "current json message: ,\"d\":11,\"b\":\"AJCVvgAAAAA=\",\"l\":8}\n",
      "current json message: ,\"d\":3,\"b\":\"AAAAAAAAAAA=\",\"l\":8}\n",
      "current json message: ,\"d\":11,\"b\":\"q7qZvgAAAAA=\",\"l\":8}\n",
      "current json message: 2,\"d\":3,\"b\":\"Iu4hwwAAAAA=\",\"l\":8}\n",
      "current json message: 2,\"d\":3,\"b\":\"4+QhwwAAAAA=\",\"l\":8}\n",
      "current json message: ,\"d\":11,\"b\":\"ADCMvgAAAAA=\",\"l\":8}\n",
      "current json message: 4,\"b\":\"rLIMwgAAAAA=\",\"l\":8}\n",
      "current json message: 11,\"b\":\"VdUmvgAAAAA=\",\"l\":8}\n",
      "current json message: 2,\"d\":7,\"b\":\"APgnvwAAAAA=\",\"l\":8}\n",
      "current json message: ,\"d\":0,\"b\":\"AAAAAAAAAAA=\",\"l\":8}\n",
      "current json message: 4,\"b\":\"dCmewgAAAAA=\",\"l\":8}\n",
      "current json message: 2,\"d\":2,\"b\":\"BTcFwQAAAAA=\",\"l\":8}\n",
      "current json message: ,\"d\":11,\"b\":\"ALCYvgAAAAA=\",\"l\":8}\n",
      "current json message: 2,\"d\":3,\"b\":\"MeAhwwAAAAA=\",\"l\":8}\n",
      "current json message: ,\"d\":11,\"b\":\"VUWOvgAAAAA=\",\"l\":8}\n",
      "current json message: 2,\"d\":3,\"b\":\"BNkhwwAAAAA=\",\"l\":8}\n",
      "current json message: 2,\"d\":3,\"b\":\"beMhwwAAAAA=\",\"l\":8}\n",
      "current json message: ,\"d\":11,\"b\":\"AEBjvgAAAAA=\",\"l\":8}\n",
      "current json message: 3,\"b\":\"AOMhwwAAAAA=\",\"l\":8}\n",
      "current json message: ,\"d\":11,\"b\":\"ALCYvgAAAAA=\",\"l\":8}\n",
      "current json message: ,\"d\":11,\"b\":\"qypnvQAAAAA=\",\"l\":8}\n",
      "current json message: 2,\"d\":3,\"b\":\"rOMhwwAAAAA=\",\"l\":8}\n",
      "current json message: 2,\"d\":7,\"b\":\"ABgrvwAAAAA=\",\"l\":8}\n",
      "current json message: 4,\"b\":\"njYoQwAAAAA=\",\"l\":8}\n",
      "current json message: ,\"d\":11,\"b\":\"AACzvAAAAAA=\",\"l\":8}\n",
      "current json message: 2,\"d\":7,\"b\":\"AKgsvwAAAAA=\",\"l\":8}\n",
      "current json message: 2,\"d\":2,\"b\":\"Y3wEwQAAAAA=\",\"l\":8}\n",
      "current json message: ,\"d\":4,\"b\":\"0iIXQwAAAAA=\",\"l\":8}\n",
      "current json message: 4,\"b\":\"7Mn4QgAAAAA=\",\"l\":8}\n",
      "current json message: 2,\"d\":3,\"b\":\"reAhwwAAAAA=\",\"l\":8}\n",
      "current json message: 3,\"b\":\"3t4hwwAAAAA=\",\"l\":8}\n",
      "current json message: 2,\"d\":3,\"b\":\"DeQhwwAAAAA=\",\"l\":8}\n",
      "current json message: ,\"d\":11,\"b\":\"q8qnvgAAAAA=\",\"l\":8}\n",
      "current json message: ,\"d\":11,\"b\":\"q+qRvgAAAAA=\",\"l\":8}\n",
      "current json message: ,\"d\":11,\"b\":\"AACUvgAAAAA=\",\"l\":8}\n",
      "current json message: \":\"AAAAAAAAAAA=\",\"l\":8}\n",
      "current json message: ,\"d\":4,\"b\":\"YMu6wQAAAAA=\",\"l\":8}\n",
      "current json message: ,\"d\":11,\"b\":\"ANCCvgAAAAA=\",\"l\":8}\n",
      "current json message: 2,\"d\":2,\"b\":\"aKMDwQAAAAA=\",\"l\":8}\n",
      "current json message: 11,\"b\":\"VXVovgAAAAA=\",\"l\":8}\n",
      "current json message: ,\"d\":11,\"b\":\"AEB8vgAAAAA=\",\"l\":8}\n",
      "current json message: ,\"d\":4,\"b\":\"7MuIwgAAAAA=\",\"l\":8}\n",
      "current json message: ,\"d\":11,\"b\":\"AGCEvgAAAAA=\",\"l\":8}\n",
      "current json message: ,\"d\":4,\"b\":\"wkyWwgAAAAA=\",\"l\":8}\n",
      "current json message: ,\"d\":11,\"b\":\"APCFvgAAAAA=\",\"l\":8}\n",
      "current json message: ,\"d\":11,\"b\":\"VUWnvgAAAAA=\",\"l\":8}\n",
      "current json message: ,\"d\":3,\"b\":\"hNwhwwAAAAA=\",\"l\":8}\n",
      "current json message: 3,\"b\":\"RdohwwAAAAA=\",\"l\":8}\n",
      "current json message: 2,\"d\":6,\"b\":\"AICJvgAAAAA=\",\"l\":8}\n",
      "current json message: ,\"d\":11,\"b\":\"ADClvgAAAAA=\",\"l\":8}\n",
      "current json message: 2,\"d\":3,\"b\":\"zLshwwAAAAA=\",\"l\":8}\n",
      "current json message: ,\"d\":11,\"b\":\"VfV0vgAAAAA=\",\"l\":8}\n",
      "current json message: ,\"d\":11,\"b\":\"AMCmvgAAAAA=\",\"l\":8}\n",
      "current json message: 4,\"b\":\"A8kXQwAAAAA=\",\"l\":8}\n",
      "current json message: ,\"d\":11,\"b\":\"AECBvgAAAAA=\",\"l\":8}\n",
      "current json message: 2,\"d\":7,\"b\":\"ABAkvwAAAAA=\",\"l\":8}\n",
      "current json message: ,\"d\":4,\"b\":\"q90FQwAAAAA=\",\"l\":8}\n",
      "current json message: 2,\"d\":2,\"b\":\"xDgEwQAAAAA=\",\"l\":8}\n",
      "current json message: ,\"d\":11,\"b\":\"ABCJvgAAAAA=\",\"l\":8}\n",
      "current json message: ,\"d\":11,\"b\":\"VbWMvgAAAAA=\",\"l\":8}\n",
      "current json message: ,\"d\":11,\"b\":\"q0qCvgAAAAA=\",\"l\":8}\n",
      "current json message: ,\"d\":11,\"b\":\"VdWPvgAAAAA=\",\"l\":8}\n",
      "current json message: ,\"d\":11,\"b\":\"VTVJvgAAAAA=\",\"l\":8}\n",
      "current json message: ,\"d\":3,\"b\":\"AAAAAAAAAAA=\",\"l\":8}\n",
      "current json message: ,\"d\":11,\"b\":\"AECBvgAAAAA=\",\"l\":8}\n",
      "current json message: 4,\"b\":\"iKFGQgAAAAA=\",\"l\":8}\n",
      "current json message: ,\"d\":11,\"b\":\"q2qFvgAAAAA=\",\"l\":8}\n",
      "current json message: ,\"d\":4,\"b\":\"GC3nQQAAAAA=\",\"l\":8}\n",
      "current json message: ,\"d\":11,\"b\":\"VdVxvgAAAAA=\",\"l\":8}\n",
      "current json message: ,\"d\":11,\"b\":\"AICHvgAAAAA=\",\"l\":8}\n",
      "current json message: 11,\"b\":\"AIBQvgAAAAA=\",\"l\":8}\n",
      "current json message: ,\"d\":11,\"b\":\"qxqKvgAAAAA=\",\"l\":8}\n",
      "current json message: ,\"b\":\"CgAfAA==\",\"l\":4}\n",
      "current json message: 2,\"d\":2,\"b\":\"bW8DwQAAAAA=\",\"l\":8}\n",
      "current json message: 2,\"d\":6,\"b\":\"AKCMvgAAAAA=\",\"l\":8}\n",
      "current json message: :6,\"b\":\"AICJvgAAAAA=\",\"l\":8}\n",
      "current json message: ,\"d\":11,\"b\":\"AAB2vgAAAAA=\",\"l\":8}\n",
      "current json message: 2,\"d\":2,\"b\":\"B0QFwQAAAAA=\",\"l\":8}\n"
     ]
    }
   ],
   "source": [
    "filename = 'new' # 파일은 /data/go.csv 에 저장됩니다.\n",
    "dg.gathering_motion(btn, gyro, filename)"
   ]
  },
  {
   "cell_type": "markdown",
   "metadata": {},
   "source": [
    "1-4. 현재까지 수집된 데이터의 개수를 확인합니다."
   ]
  },
  {
   "cell_type": "code",
   "execution_count": null,
   "metadata": {},
   "outputs": [],
   "source": [
    "dg.check_data()"
   ]
  },
  {
   "cell_type": "markdown",
   "metadata": {},
   "source": [
    "# 2. 모델 학습"
   ]
  },
  {
   "cell_type": "markdown",
   "metadata": {},
   "source": [
    "## 수집한 데이터를 통해 학습 모델을 생성합니다."
   ]
  },
  {
   "cell_type": "markdown",
   "metadata": {},
   "source": [
    "2-1. gesture_detection 모듈을 import 합니다."
   ]
  },
  {
   "cell_type": "code",
   "execution_count": 1,
   "metadata": {},
   "outputs": [
    {
     "name": "stdout",
     "output_type": "stream",
     "text": [
      "Running PyMODI (v0.9.1)\n"
     ]
    }
   ],
   "source": [
    "from gesture_detection import DetectGesture"
   ]
  },
  {
   "cell_type": "markdown",
   "metadata": {},
   "source": [
    "2-2. DetectGesture 클래스 객체를 생성합니다."
   ]
  },
  {
   "cell_type": "code",
   "execution_count": 2,
   "metadata": {},
   "outputs": [],
   "source": [
    "dg = DetectGesture()"
   ]
  },
  {
   "cell_type": "markdown",
   "metadata": {},
   "source": [
    "2-3. training_model 메서드를 실행하여 수집한 데이터를 사용항여 학습하고, 모델을 생성합니다."
   ]
  },
  {
   "cell_type": "code",
   "execution_count": 3,
   "metadata": {},
   "outputs": [
    {
     "name": "stdout",
     "output_type": "stream",
     "text": [
      "[학습 시작]\n",
      "학습을 시작합니다.\n",
      "Train on 2985 samples\n",
      "Epoch 1/5\n",
      "2985/2985 [==============================] - 7s 2ms/sample - loss: 0.2189 - acc: 0.9206\n",
      "Epoch 2/5\n",
      "2985/2985 [==============================] - 7s 2ms/sample - loss: 0.0568 - acc: 0.9812\n",
      "Epoch 3/5\n",
      "2985/2985 [==============================] - 7s 2ms/sample - loss: 0.0349 - acc: 0.9879\n",
      "Epoch 4/5\n",
      "2985/2985 [==============================] - 7s 2ms/sample - loss: 0.0361 - acc: 0.9866\n",
      "Epoch 5/5\n",
      "2985/2985 [==============================] - 7s 2ms/sample - loss: 0.0408 - acc: 0.9859\n",
      "[학습 완료]\n",
      "학습 및 모델 생성이 완료되었습니다.\n"
     ]
    }
   ],
   "source": [
    "dg.training_model()"
   ]
  },
  {
   "cell_type": "markdown",
   "metadata": {},
   "source": [
    "# 3. 학습된 모델을 활용하여 콘텐츠 제작"
   ]
  },
  {
   "cell_type": "markdown",
   "metadata": {},
   "source": [
    "## 생성된 모델을 활용하여 콘텐츠를 제작합니다."
   ]
  },
  {
   "cell_type": "markdown",
   "metadata": {},
   "source": [
    "3-1. gesture_detection 모듈과 Pymodi 및 필수 패키지들을 import 합니다."
   ]
  },
  {
   "cell_type": "code",
   "execution_count": null,
   "metadata": {},
   "outputs": [],
   "source": [
    "from gesture_detection import DetectGesture\n",
    "from IPython.display import clear_output\n",
    "import modi\n",
    "import time"
   ]
  },
  {
   "cell_type": "markdown",
   "metadata": {},
   "source": [
    "3-2. 모디 객체와 DetectGesture 클래스 객체를 생성합니다."
   ]
  },
  {
   "cell_type": "code",
   "execution_count": null,
   "metadata": {},
   "outputs": [],
   "source": [
    "bundle = modi.MODI()\n",
    "gyro = bundle.gyros[0]\n",
    "btn = bundle.buttons[0]\n",
    "mot = bundle.motors[0]\n",
    "dg = DetectGesture()"
   ]
  },
  {
   "cell_type": "markdown",
   "metadata": {},
   "source": [
    "3-3. 반복문 안에 있는 사용자 코드 영역을 수정하여 모터 모듈이 움직이도록 코드를 움직이도록 코드를 작성합니다."
   ]
  },
  {
   "cell_type": "code",
   "execution_count": null,
   "metadata": {},
   "outputs": [],
   "source": [
    "while True:\n",
    "        time.sleep(0.1)\n",
    "        print(\"버튼을 더블클릭하면 출발합니다\")\n",
    "        clear_output(wait=True)\n",
    "        if btn.double_clicked:\n",
    "            print(\"출발!\")\n",
    "            mot.speed = 25, -25\n",
    "            time.sleep(0.1)\n",
    "            while True:\n",
    "                print(\"버튼을 눌러 데이터를 수집해보세요. 멈추려면 버튼을 더블클릭하세요.\", end='\\r')\n",
    "                if btn.clicked:\n",
    "                    pred = dg.predict(gyro, btn) #pred 변수에, 예측값을 받아와 저장합니다.\n",
    "                    time.sleep(0.1)\n",
    "                    # 사용자 코드 영역\n",
    "                    # =======================================================\n",
    "                    if pred == 'back':\n",
    "                        mot.speed = -23,23\n",
    "                        time.sleep(0.1)\n",
    "                        print('car : back!')\n",
    "                    elif pred == 'go':\n",
    "                        mot.speed = 23, -23\n",
    "                        time.sleep(0.1)\n",
    "                        print('car : go!')\n",
    "                    elif pred == 'left':\n",
    "                        mot.speed = 23, 23\n",
    "                        time.sleep(0.1)\n",
    "                        print('car : left!')\n",
    "                    elif pred == 'right':\n",
    "                        mot.speed = -23, -23\n",
    "                        time.sleep(0.1)\n",
    "                        print('car : right!')\n",
    "                    #=======================================================\n",
    "\n",
    "                time.sleep(0.1)\n",
    "                if btn.double_clicked:\n",
    "                    print(\"stop!\")\n",
    "                    mot.speed = 0, 0\n",
    "                    time.sleep(0.1)\n",
    "                    break"
   ]
  },
  {
   "cell_type": "code",
   "execution_count": null,
   "metadata": {},
   "outputs": [],
   "source": []
  }
 ],
 "metadata": {
  "kernelspec": {
   "display_name": "Python 3",
   "language": "python",
   "name": "python3"
  },
  "language_info": {
   "codemirror_mode": {
    "name": "ipython",
    "version": 3
   },
   "file_extension": ".py",
   "mimetype": "text/x-python",
   "name": "python",
   "nbconvert_exporter": "python",
   "pygments_lexer": "ipython3",
   "version": "3.7.6"
  }
 },
 "nbformat": 4,
 "nbformat_minor": 4
}
