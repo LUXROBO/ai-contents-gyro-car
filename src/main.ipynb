{
 "cells": [
  {
   "cell_type": "markdown",
   "metadata": {},
   "source": [
    "# Gyro Detection"
   ]
  },
  {
   "cell_type": "markdown",
   "metadata": {},
   "source": [
    "# 1. 데이터 수집"
   ]
  },
  {
   "cell_type": "markdown",
   "metadata": {},
   "source": [
    "## 학습에 사용할 데이터를 수집합니다. 수집하고자 하는 데이터의 이름을 설정하고 gathering_motion 메서드를 통해 데이터를 수집합니다."
   ]
  },
  {
   "cell_type": "markdown",
   "metadata": {},
   "source": [
    "1-1. gathering_data 모듈과 Pymodi 패키지를 import합니다."
   ]
  },
  {
   "cell_type": "code",
   "execution_count": null,
   "metadata": {},
   "outputs": [],
   "source": [
    "from gathering_data import DataGathering\n",
    "import modi"
   ]
  },
  {
   "cell_type": "markdown",
   "metadata": {},
   "source": [
    "1-2. 모디 객체와 DataGathering 클래스 객체를 생성합니다."
   ]
  },
  {
   "cell_type": "code",
   "execution_count": null,
   "metadata": {},
   "outputs": [],
   "source": [
    "bundle = modi.MODI()\n",
    "gyro = bundle.gyros[0]\n",
    "btn = bundle.buttons[0]\n",
    "\n",
    "dg = DataGathering()"
   ]
  },
  {
   "cell_type": "markdown",
   "metadata": {},
   "source": [
    "1-3. go, back, left, right 4개 동작에 대한 데이터를 수집합니다. 파일 이름(go, back, left, right)을 입력하고, gathering_motion 메서드를 실행하여 데이터를 수집합니다."
   ]
  },
  {
   "cell_type": "code",
   "execution_count": null,
   "metadata": {},
   "outputs": [],
   "source": [
    "filename = 'left' # 파일은 /data/go.csv 에 저장됩니다.\n",
    "dg.gathering_motion(btn, gyro, filename)"
   ]
  },
  {
   "cell_type": "markdown",
   "metadata": {},
   "source": [
    "1-4. 현재까지 수집된 데이터의 개수를 확인합니다."
   ]
  },
  {
   "cell_type": "code",
   "execution_count": null,
   "metadata": {},
   "outputs": [],
   "source": [
    "dg.check_data()"
   ]
  },
  {
   "cell_type": "markdown",
   "metadata": {},
   "source": [
    "# 2. 모델 학습"
   ]
  },
  {
   "cell_type": "markdown",
   "metadata": {},
   "source": [
    "## 수집한 데이터를 통해 학습 모델을 생성합니다."
   ]
  },
  {
   "cell_type": "markdown",
   "metadata": {},
   "source": [
    "2-1. gesture_detection 모듈을 import 합니다."
   ]
  },
  {
   "cell_type": "code",
   "execution_count": null,
   "metadata": {},
   "outputs": [],
   "source": [
    "from gesture_detection import DetectGesture"
   ]
  },
  {
   "cell_type": "markdown",
   "metadata": {},
   "source": [
    "2-2. DetectGesture 클래스 객체를 생성합니다."
   ]
  },
  {
   "cell_type": "code",
   "execution_count": null,
   "metadata": {},
   "outputs": [],
   "source": [
    "dg = DetectGesture()"
   ]
  },
  {
   "cell_type": "markdown",
   "metadata": {},
   "source": [
    "2-3. training_model 메서드를 실행하여 수집한 데이터를 사용항여 학습하고, 모델을 생성합니다."
   ]
  },
  {
   "cell_type": "code",
   "execution_count": null,
   "metadata": {},
   "outputs": [],
   "source": [
    "dg.training_model()"
   ]
  },
  {
   "cell_type": "markdown",
   "metadata": {},
   "source": [
    "# 3. 학습된 모델을 활용하여 콘텐츠 제작"
   ]
  },
  {
   "cell_type": "markdown",
   "metadata": {},
   "source": [
    "## 생성된 모델을 활용하여 콘텐츠를 제작합니다."
   ]
  },
  {
   "cell_type": "markdown",
   "metadata": {},
   "source": [
    "3-1. gesture_detection 모듈과 Pymodi 및 필수 패키지들을 import 합니다."
   ]
  },
  {
   "cell_type": "code",
   "execution_count": 1,
   "metadata": {},
   "outputs": [
    {
     "name": "stdout",
     "output_type": "stream",
     "text": [
      "Running PyMODI (v0.9.1)\n"
     ]
    }
   ],
   "source": [
    "from gesture_detection import DetectGesture\n",
    "from IPython.display import clear_output\n",
    "import modi\n",
    "import time"
   ]
  },
  {
   "cell_type": "markdown",
   "metadata": {},
   "source": [
    "3-2. 모디 객체와 DetectGesture 클래스 객체를 생성합니다."
   ]
  },
  {
   "cell_type": "code",
   "execution_count": 2,
   "metadata": {},
   "outputs": [
    {
     "name": "stdout",
     "output_type": "stream",
     "text": [
      "Run Ser Task.\n",
      "Start initializing connected MODI modules\n",
      "Button (1431) has been connected!\n",
      "Gyro (1742) has been connected!\n",
      "Motor (1771) has been connected!\n"
     ]
    },
    {
     "name": "stderr",
     "output_type": "stream",
     "text": [
      "Exception in thread Thread-4:\n",
      "Traceback (most recent call last):\n",
      "  File \"/Users/peter/opt/anaconda3/lib/python3.7/threading.py\", line 926, in _bootstrap_inner\n",
      "    self.run()\n",
      "  File \"/Users/peter/opt/anaconda3/lib/python3.7/threading.py\", line 870, in run\n",
      "    self._target(*self._args, **self._kwargs)\n",
      "  File \"/Users/peter/opt/anaconda3/lib/python3.7/site-packages/modi/task/ser_task.py\", line 130, in run_recv_data\n",
      "    self._recv_data()\n",
      "  File \"/Users/peter/opt/anaconda3/lib/python3.7/site-packages/modi/task/ser_task.py\", line 97, in _recv_data\n",
      "    serial_buffer = self.__ser.in_waiting\n",
      "  File \"/Users/peter/.local/lib/python3.7/site-packages/serial/serialposix.py\", line 467, in in_waiting\n",
      "    s = fcntl.ioctl(self.fd, TIOCINQ, TIOCM_zero_str)\n",
      "OSError: [Errno 6] Device not configured\n"
     ]
    },
    {
     "name": "stdout",
     "output_type": "stream",
     "text": [
      "\n",
      "MODI connection is lost!!!"
     ]
    },
    {
     "name": "stderr",
     "output_type": "stream",
     "text": [
      "\n"
     ]
    },
    {
     "name": "stdout",
     "output_type": "stream",
     "text": [
      "\n"
     ]
    },
    {
     "name": "stderr",
     "output_type": "stream",
     "text": [
      "Traceback (most recent call last):\n",
      "  File \"/Users/peter/.local/lib/python3.7/site-packages/serial/serialposix.py\", line 537, in write\n",
      "    n = os.write(self.fd, d)\n",
      "OSError: [Errno 6] Device not configured\n",
      "\n",
      "During handling of the above exception, another exception occurred:\n",
      "\n",
      "Traceback (most recent call last):\n",
      "  File \"/Users/peter/opt/anaconda3/lib/python3.7/site-packages/modi/task/ser_task.py\", line 146, in run_send_data\n",
      "    self._send_data()\n",
      "  File \"/Users/peter/opt/anaconda3/lib/python3.7/site-packages/modi/task/ser_task.py\", line 117, in _send_data\n",
      "    self.__ser.write(message_to_send)\n",
      "  File \"/Users/peter/.local/lib/python3.7/site-packages/serial/serialposix.py\", line 571, in write\n",
      "    raise SerialException('write failed: {}'.format(e))\n",
      "serial.serialutil.SerialException: write failed: [Errno 6] Device not configured\n"
     ]
    }
   ],
   "source": [
    "bundle = modi.MODI()\n",
    "gyro = bundle.gyros[0]\n",
    "btn = bundle.buttons[0]\n",
    "mot = bundle.motors[0]\n",
    "dg = DetectGesture()"
   ]
  },
  {
   "cell_type": "markdown",
   "metadata": {},
   "source": [
    "3-3. 반복문 안에 있는 사용자 코드 영역을 수정하여 모터 모듈이 움직이도록 코드를 움직이도록 코드를 작성합니다."
   ]
  },
  {
   "cell_type": "code",
   "execution_count": null,
   "metadata": {},
   "outputs": [
    {
     "name": "stdout",
     "output_type": "stream",
     "text": [
      "버튼을 더블클릭하면 출발합니다\n"
     ]
    }
   ],
   "source": [
    "while True:\n",
    "        time.sleep(0.1)\n",
    "        print(\"버튼을 더블클릭하면 출발합니다\")\n",
    "        clear_output(wait=True)\n",
    "        if btn.double_clicked:\n",
    "            print(\"출발!\")\n",
    "            mot.speed = 35, -35\n",
    "            time.sleep(0.1)\n",
    "            while True:\n",
    "                print(\"버튼을 눌러 데이터를 수집해보세요. 멈추려면 버튼을 더블클릭하세요.\", end='\\r')\n",
    "                if btn.clicked:\n",
    "                    pred = dg.predict(gyro, btn) #pred 변수에, 예측값을 받아와 저장합니다.\n",
    "                    time.sleep(0.1)\n",
    "                    # 사용자 코드 영역\n",
    "                    # =======================================================\n",
    "                    if pred == 'back':\n",
    "                        mot.speed = -30,30\n",
    "                        time.sleep(0.1)\n",
    "                        print('car : back!')\n",
    "                    elif pred == 'go':\n",
    "                        mot.speed = 30, -30\n",
    "                        time.sleep(0.1)\n",
    "                        print('car : go!')\n",
    "                    elif pred == 'left':\n",
    "                        mot.speed = 30, 30\n",
    "                        time.sleep(0.1)\n",
    "                        print('car : left!')\n",
    "                    elif pred == 'right':\n",
    "                        mot.speed = -30, -30\n",
    "                        time.sleep(0.1)\n",
    "                        print('car : right!')\n",
    "                    #=======================================================\n",
    "\n",
    "                time.sleep(0.1)\n",
    "                if btn.double_clicked:\n",
    "                    print(\"stop!\")\n",
    "                    mot.speed = 0, 0\n",
    "                    time.sleep(0.1)\n",
    "                    break"
   ]
  },
  {
   "cell_type": "code",
   "execution_count": null,
   "metadata": {},
   "outputs": [],
   "source": []
  }
 ],
 "metadata": {
  "kernelspec": {
   "display_name": "Python 3",
   "language": "python",
   "name": "python3"
  },
  "language_info": {
   "codemirror_mode": {
    "name": "ipython",
    "version": 3
   },
   "file_extension": ".py",
   "mimetype": "text/x-python",
   "name": "python",
   "nbconvert_exporter": "python",
   "pygments_lexer": "ipython3",
   "version": "3.7.6"
  }
 },
 "nbformat": 4,
 "nbformat_minor": 4
}
