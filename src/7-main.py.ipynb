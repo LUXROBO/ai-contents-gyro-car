{
 "cells": [
  {
   "cell_type": "code",
   "execution_count": null,
   "metadata": {},
   "outputs": [],
   "source": [
    "from gesture_detection import DetectGesture\n",
    "import modi\n",
    "import time\n",
    "\n",
    "def main():\n",
    "    bundle = modi.MODI(3)\n",
    "    gyro = bundle.gyros[0]\n",
    "    btn = bundle.buttons[0]\n",
    "    mot = bundle.motors[0]\n",
    "    dg = DetectGesture()\n",
    "\n",
    "    while True:\n",
    "        time.sleep(0.1)\n",
    "        if btn.get_double_clicked():\n",
    "            print(\"start!\")\n",
    "            mot.set_speed(25, -25)\n",
    "            time.sleep(0.1)\n",
    "            while True:\n",
    "\n",
    "\n",
    "                if btn.get_clicked():\n",
    "                    pred = dg.predict(gyro, btn)\n",
    "                    time.sleep(0.1)\n",
    "                    print(\"prediction : \", pred)\n",
    "                    # 사용자 코드 영역\n",
    "                    # =======================================================\n",
    "                    if pred == 'back':\n",
    "                        mot.set_speed(-23,23)\n",
    "                        time.sleep(0.1)\n",
    "                        print('car : back!')\n",
    "                    elif pred == 'go':\n",
    "                        mot.set_speed(23, -23)\n",
    "                        time.sleep(0.1)\n",
    "                        print('car : go!')\n",
    "                    elif pred == 'left':\n",
    "                        mot.set_speed(23, 23)\n",
    "                        time.sleep(0.1)\n",
    "                        print('car : left!')\n",
    "                    elif pred == 'right':\n",
    "                        mot.set_speed(-23, -23)\n",
    "                        time.sleep(0.1)\n",
    "                        print('car : right!')\n",
    "\n",
    "              #=======================================================\n",
    "\n",
    "\n",
    "                time.sleep(0.1)\n",
    "                if btn.get_double_clicked():\n",
    "                    print(\"stop!\")\n",
    "                    mot.set_speed(0, 0)\n",
    "                    time.sleep(0.1)\n",
    "                    break\n",
    "\n",
    "\n",
    "if __name__ == \"__main__\":\n",
    "    main()"
   ]
  }
 ],
 "metadata": {
  "kernelspec": {
   "display_name": "Python 3",
   "language": "python",
   "name": "python3"
  },
  "language_info": {
   "codemirror_mode": {
    "name": "ipython",
    "version": 3
   },
   "file_extension": ".py",
   "mimetype": "text/x-python",
   "name": "python",
   "nbconvert_exporter": "python",
   "pygments_lexer": "ipython3",
   "version": "3.7.6"
  }
 },
 "nbformat": 4,
 "nbformat_minor": 4
}
